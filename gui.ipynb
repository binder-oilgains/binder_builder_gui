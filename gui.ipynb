{
 "cells": [
  {
   "cell_type": "code",
   "execution_count": 1,
   "metadata": {},
   "outputs": [],
   "source": [
    "import ipywidgets as wdg\n",
    "from IPython.display import Markdown, HTML, display\n",
    "from markdown import markdown\n",
    "from base64 import b64encode"
   ]
  },
  {
   "cell_type": "code",
   "execution_count": 140,
   "metadata": {},
   "outputs": [],
   "source": [
    "def add_new_button():\n",
    "    btn = wdg.Button(\n",
    "        description='Add new',\n",
    "        button_style='', # 'success', 'info', 'warning', 'danger' or ''\n",
    "        tooltip='Click me',\n",
    "        icon='plus'\n",
    "    )\n",
    "    return btn\n",
    "\n",
    "\n",
    "class HorizontalButtons(object):\n",
    "    def __init__(self, description):\n",
    "        btn = add_new_button()\n",
    "        btn.parent = self\n",
    "        btn.on_click(self._add_button)\n",
    "        \n",
    "        # Create the first input cell (and the `layout` bit is a hack to make the cell the right width)\n",
    "        first_input = self._new_input()\n",
    "        first_input.description = description\n",
    "        first_input.layout = {'height': '100%'}\n",
    "        self.widget = wdg.HBox(children=[first_input, btn])\n",
    "\n",
    "    def render(self):\n",
    "        children = self.widget.children[:-1]\n",
    "        return [child.value for child in children]\n",
    "    \n",
    "    def _new_input(self):\n",
    "        text = wdg.Text(\n",
    "            value='',\n",
    "            placeholder='Enter here',\n",
    "            disabled=False,\n",
    "        )\n",
    "        text.layout.width = \"150px\"\n",
    "        return text\n",
    "        \n",
    "    def _add_button(self, btn):\n",
    "        parent = btn.parent\n",
    "        children = list(parent.widget.children)\n",
    "        children.insert(-1, self._new_input())\n",
    "        parent.widget.children = tuple(children)\n",
    "\n",
    "    def _repr_html_(self):\n",
    "        display(self.widget)"
   ]
  },
  {
   "cell_type": "code",
   "execution_count": 241,
   "metadata": {},
   "outputs": [],
   "source": [
    "class BuildPackWidget(object):\n",
    "    def __init__(self):\n",
    "        pass\n",
    "    \n",
    "    def init_display(self):\n",
    "        self.gen_downloads_btn = wdg.Button(description=\"Generate downloads\", icon=\"check\")\n",
    "        self.gen_downloads_btn.on_click(self._generate_download_links)\n",
    "        self.gen_downloads_btn.layout = {'width': \"200px\", \"margin\": \"20px 0px 0px 10px\"}\n",
    "        self.widgets_display = wdg.VBox(children=[self.widgets, self.gen_downloads_btn])\n",
    "        \n",
    "    def display(self):\n",
    "        self.init_display()\n",
    "        display(self.widgets_display)        \n",
    "        \n",
    "    def _generate_download_links(self, handler=None):\n",
    "        # Should be one button per filename\n",
    "        links = []\n",
    "        for filename, text in self.render().items():\n",
    "            payload = b64encode(text.encode('utf-8')).decode()\n",
    "            download_template = f\"<a download='{filename}' href='data:text/plain;charset=utf-8;base64,{payload}'>Download `{filename}`</a>\"\n",
    "            links.append(wdg.HTML(download_template))\n",
    "        self.widgets_display.children = [self.widgets, self.gen_downloads_btn] + links\n",
    "    \n",
    "    def render(self):\n",
    "        \"\"\"Return a dictionary of filename: filecontents.\"\"\"\n",
    "        pass\n",
    "\n",
    "    def _repr_html_(self):\n",
    "        self.display()\n",
    "\n",
    "# Python\n",
    "class EnvironmentYml(BuildPackWidget):\n",
    "    def __init__(self):\n",
    "        self.name_widget = wdg.Text(description=\"name\", placeholder=\"my-environment-name\")\n",
    "        self.channel_widget = wdg.Text(description=\"channels\", placeholder=\"conda-forge\")\n",
    "        self.packages_widget = HorizontalButtons('packages').widget\n",
    "        self.packages_widget.children[0].placeholder = \"numpy=1.16\"\n",
    "        self.widgets = wdg.VBox(children=[self.name_widget, self.channel_widget, self.packages_widget])\n",
    "        \n",
    "    def render(self):\n",
    "        lines = []\n",
    "        lines.append('name: ' + self.name_widget.value)\n",
    "        lines.append('channel: ' + self.channel_widget.value)\n",
    "        lines.append('dependencies:')\n",
    "        for iline in self.packages_widget.children[:-1]:\n",
    "            lines.append('  - ' + iline.value)\n",
    "        return {'environment.yml': '\\n'.join(lines)}\n",
    "        \n",
    "class Requirements(BuildPackWidget):\n",
    "    def __init__(self):\n",
    "        self.packages_widget = HorizontalButtons('packages').widget\n",
    "        self.packages_widget.children[0].placeholder = \"numpy==1.16\"\n",
    "        self.widgets = self.packages_widget\n",
    "      \n",
    "    def render(self):\n",
    "        lines = [line.value for line in self.widgets.children[:-1]]\n",
    "        return {'requirements.txt ': '\\n'.join(lines)}\n",
    "\n",
    "# R\n",
    "class RBuildPack(BuildPackWidget):\n",
    "    def __init__(self):\n",
    "        self.date_widget = wdg.Text(description=\"Date\", placeholder=\"YYYY-MM-DD\")\n",
    "        self.install_r_packages_widget = HorizontalButtons('Packages').widget\n",
    "        self.install_r_packages_widget.children[0].placeholder = \"tidyverse\"\n",
    "        self.widgets = wdg.VBox(children=[self.date_widget, self.install_r_packages_widget])\n",
    "    \n",
    "    def render(self):\n",
    "        out = {}\n",
    "        date = self.date_widget.value\n",
    "        if len(date.split('-')) != 3:\n",
    "            raise ValueError(\"You may not have selected the correct date\")\n",
    "        out['runtime.txt'] = f'r-{date}'\n",
    "        out['install.R'] = '\\n'.join([iline.value for iline in self.install_r_packages_widget.children[:-1]])\n",
    "        return out\n",
    "\n",
    "# apt.txt\n",
    "class Apt(BuildPackWidget):\n",
    "    def __init__(self):\n",
    "        self.lines_widget = HorizontalButtons('packages').widget\n",
    "        self.widgets = self.lines_widget\n",
    "        \n",
    "    def render(self):\n",
    "        lines = [line.value for line in self.widgets.children[:-1]]\n",
    "        return {'apt.txt ': '\\n'.join(lines)}\n",
    "\n",
    "# runtime.txt\n",
    "class PostBuild(BuildPackWidget):\n",
    "    def __init__(self):\n",
    "        self.lines_widget = HorizontalButtons('commands').widget\n",
    "        self.widgets = self.lines_widget\n",
    "        \n",
    "    def render(self):\n",
    "        lines = [line.value for line in self.widgets.children[:-1]]\n",
    "        return {'postBuild ': '\\n'.join(lines)}\n",
    "    \n",
    "# runtime.txt\"\n",
    "class Start(BuildPackWidget):\n",
    "    def __init__(self):\n",
    "        self.lines_widget = HorizontalButtons('commands').widget\n",
    "        self.widgets = self.lines_widget\n",
    "        \n",
    "    def render(self):\n",
    "        lines = [line.value for line in self.widgets.children[:-1]]\n",
    "        return {'start ': '\\n'.join(lines)}"
   ]
  },
  {
   "cell_type": "markdown",
   "metadata": {},
   "source": [
    "# Language-specific dependency files\n",
    "\n",
    "The following sections show how to build configuration files for dependencies in a few\n",
    "languages.\n",
    "\n",
    "## Python - `requirements.txt`\n",
    "\n",
    "A file called `requirements.txt` will use the `pip` package manager to install packages with Python."
   ]
  },
  {
   "cell_type": "code",
   "execution_count": 227,
   "metadata": {},
   "outputs": [
    {
     "data": {
      "application/vnd.jupyter.widget-view+json": {
       "model_id": "90beacee2a934538923a3468b8dc0530",
       "version_major": 2,
       "version_minor": 0
      },
      "text/plain": [
       "VBox(children=(HBox(children=(Text(value='', description='packages', layout=Layout(height='100%'), placeholder…"
      ]
     },
     "metadata": {},
     "output_type": "display_data"
    }
   ],
   "source": [
    "req = Requirements()\n",
    "req.init_display()\n",
    "\n",
    "req.display()"
   ]
  },
  {
   "cell_type": "markdown",
   "metadata": {},
   "source": [
    "## python - `environment.yml`\n",
    "\n",
    "A file called `environment.yml` will use the `conda` package manager to install packages with Anaconda."
   ]
  },
  {
   "cell_type": "code",
   "execution_count": 231,
   "metadata": {},
   "outputs": [
    {
     "data": {
      "application/vnd.jupyter.widget-view+json": {
       "model_id": "3b76071191ca4bcfa0db4ccfa3ff1527",
       "version_major": 2,
       "version_minor": 0
      },
      "text/plain": [
       "VBox(children=(VBox(children=(Text(value='', description='name', placeholder='my-environment-name'), Text(valu…"
      ]
     },
     "metadata": {},
     "output_type": "display_data"
    }
   ],
   "source": [
    "env = EnvironmentYml()\n",
    "env.init_display()\n",
    "\n",
    "env.display()"
   ]
  },
  {
   "cell_type": "markdown",
   "metadata": {},
   "source": [
    "## R Dependencies - `runtime.txt` and `install.R`\n",
    "\n",
    "In order to use an R environment, you'll need two things:\n",
    "\n",
    "* A **date** of the MRAN repository that defines the state of the packages you wish\n",
    "  to download. This will go in a file called `runtime.txt`\n",
    "* A **list of packages** to download. These will be put in a file called `install.R`\n",
    "\n"
   ]
  },
  {
   "cell_type": "code",
   "execution_count": 236,
   "metadata": {},
   "outputs": [
    {
     "data": {
      "application/vnd.jupyter.widget-view+json": {
       "model_id": "8fdcc20259504576980b135fbadb6568",
       "version_major": 2,
       "version_minor": 0
      },
      "text/plain": [
       "VBox(children=(VBox(children=(Text(value='', description='Date', placeholder='YYYY-MM-DD'), HBox(children=(Tex…"
      ]
     },
     "metadata": {},
     "output_type": "display_data"
    }
   ],
   "source": [
    "rbp = RBuildPack()\n",
    "rbp.init_display()\n",
    "rbp.display()"
   ]
  },
  {
   "cell_type": "markdown",
   "metadata": {},
   "source": [
    "# Extra-scripts and downloads\n",
    "\n",
    "These configuration files let you perform extra actions after your environment\n",
    "has been installed."
   ]
  },
  {
   "cell_type": "markdown",
   "metadata": {},
   "source": [
    "## Install linux system packages - `apt.txt`\n",
    "\n",
    "Binder uses a base Ubuntu image as an operating system. If you'd like to install\n",
    "system packages with `apt-get`, you can list them line-by-line in a file called `apt.txt`."
   ]
  },
  {
   "cell_type": "code",
   "execution_count": 242,
   "metadata": {},
   "outputs": [
    {
     "data": {
      "application/vnd.jupyter.widget-view+json": {
       "model_id": "d158cbe20d4f4ed88fc112c8d6725a87",
       "version_major": 2,
       "version_minor": 0
      },
      "text/plain": [
       "VBox(children=(HBox(children=(Text(value='', description='packages', layout=Layout(height='100%'), placeholder…"
      ]
     },
     "metadata": {},
     "output_type": "display_data"
    }
   ],
   "source": [
    "ap = Apt()\n",
    "ap.init_display()\n",
    "ap.display()"
   ]
  },
  {
   "cell_type": "markdown",
   "metadata": {},
   "source": [
    "## Run arbitrary commands after installing - `postBuild`\n",
    "\n",
    "A file called `postBuild` will run arbitrary shell commands after installing\n",
    "the environment with the other configuration files that you've supplied. It's useful\n",
    "for downloading data, initializing scripts, etc."
   ]
  },
  {
   "cell_type": "code",
   "execution_count": 238,
   "metadata": {},
   "outputs": [
    {
     "data": {
      "application/vnd.jupyter.widget-view+json": {
       "model_id": "a991875779864e24a63ce446413b97ca",
       "version_major": 2,
       "version_minor": 0
      },
      "text/plain": [
       "VBox(children=(HBox(children=(Text(value='', description='commands', layout=Layout(height='100%'), placeholder…"
      ]
     },
     "metadata": {},
     "output_type": "display_data"
    }
   ],
   "source": [
    "pb = PostBuild()\n",
    "pb.init_display()\n",
    "pb.display()"
   ]
  },
  {
   "cell_type": "markdown",
   "metadata": {},
   "source": [
    "## Run a command upon starting the user's session - `start`\n",
    "\n",
    "Sometimes you'd like to run a command each time the shell starts. For example, if you'd like\n",
    "to download a small dataset that is often updated. Anything you put in `start` will be run\n",
    "*whenever a user session starts*."
   ]
  },
  {
   "cell_type": "code",
   "execution_count": 239,
   "metadata": {},
   "outputs": [
    {
     "data": {
      "application/vnd.jupyter.widget-view+json": {
       "model_id": "357263f4442e48d489b4b2e6d9131717",
       "version_major": 2,
       "version_minor": 0
      },
      "text/plain": [
       "VBox(children=(HBox(children=(Text(value='', description='commands', layout=Layout(height='100%'), placeholder…"
      ]
     },
     "metadata": {},
     "output_type": "display_data"
    }
   ],
   "source": [
    "st = Start()\n",
    "st.init_display()\n",
    "st.display()"
   ]
  }
 ],
 "metadata": {
  "kernelspec": {
   "display_name": "Python 3",
   "language": "python",
   "name": "python3"
  },
  "language_info": {
   "codemirror_mode": {
    "name": "ipython",
    "version": 3
   },
   "file_extension": ".py",
   "mimetype": "text/x-python",
   "name": "python",
   "nbconvert_exporter": "python",
   "pygments_lexer": "ipython3",
   "version": "3.7.3"
  }
 },
 "nbformat": 4,
 "nbformat_minor": 2
}
